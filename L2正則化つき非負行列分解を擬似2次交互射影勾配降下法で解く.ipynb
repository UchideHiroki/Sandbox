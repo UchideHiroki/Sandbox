{
 "cells": [
  {
   "cell_type": "markdown",
   "metadata": {},
   "source": [
    "# 何をやったか"
   ]
  },
  {
   "cell_type": "markdown",
   "metadata": {},
   "source": [
    "非負行列分解を、擬似2次交互射影勾配降下法で最適化しました。  \n",
    "最適化アルゴリズムをnumpyで書いて、scikit-learnの挙動と概ね一致することを確かめました。  \n",
    "トピックモデルとしての行列分解を整理し、性能を確かめるために、livedoorのニュースコーパスを使用しました。  \n",
    "記事群から元の記事カテゴリを復元しました。"
   ]
  },
  {
   "cell_type": "markdown",
   "metadata": {},
   "source": [
    "# きっかけ"
   ]
  },
  {
   "cell_type": "markdown",
   "metadata": {},
   "source": [
    "行列分解の基本的なアルゴリズムを理解するために、MLPの「関係データ学習」を読んでいます。  \n",
    "非負な行列の行列分解はトピックモデルと等価と書いてありました。トピックモデルは元々確率分布を仮定して解くやり方しか知らなかったので、一度整理して実装してみることにしました。  \n",
    "「擬似2次交互射影勾配降下法」という最適化手法を使います。名前が厳つくてカッコいいです。"
   ]
  },
  {
   "cell_type": "markdown",
   "metadata": {},
   "source": [
    "# 行列分解"
   ]
  },
  {
   "cell_type": "markdown",
   "metadata": {},
   "source": [
    "## 行列分解とは"
   ]
  },
  {
   "cell_type": "markdown",
   "metadata": {},
   "source": [
    "既知の$I$行$J$列の行列$X$、未知の$I$行$R$列の行列$U$、$J$行$R$列の行列$V$があるとします。  \n",
    "行列分解とは\n",
    "$$\n",
    "X \\simeq UV^T\n",
    "$$\n",
    "とXをU, Vで近似する手法です。  \n",
    "Xの値が全て0以上の場合は、非負行列分解となります。  \n",
    "\n",
    "## トピック抽出との関連\n",
    "文章$i$、単語$j$、文章のトピック数を$r$、文章$i$で単語$j$が出現する回数を$z_{i,j}$とします。これらを並べた$(i,j)$行列$Z$を定義し、\n",
    "$$\n",
    "X = \\frac{1}{\\sum_i \\sum_j z_{i.j}} Z\n",
    "$$\n",
    "とします。  \n",
    "行列$X$は全ての値が非負な行列となり、各成分の総和が1となるので、$X$は確率と見なせます。この$X$に対して行列分解を行うと、$U$の値$u_{i,r}$は文章$i$がトピック$r$に属する度合い、$V$の値$v_{j,r}$は単語$j$がトピック$r$に属する度合いと解釈出来ます。"
   ]
  },
  {
   "cell_type": "markdown",
   "metadata": {},
   "source": [
    "# 勾配法による最適化"
   ]
  },
  {
   "cell_type": "markdown",
   "metadata": {},
   "source": [
    "## 損失関数の定義\n",
    "まず、近似した行列$UV^T$が$X$にどれくらい近づいているか、損失関数を定義します。l2正則化付き二乗誤差を使用します。\n",
    "$$\n",
    "f_l = \\frac{1}{2}\\|X - UV^T\\|_{Fro}^{2}+\\frac{\\lambda}{2}\\left(\\|U\\|_{Fro}^2 + \\|V\\|_{Fro}^2\\right)\n",
    "$$\n",
    "Froとはフロベニウスのノルムの事で、この場合は要素毎に二乗した全ての値を足し合わせます。正則化とは、$U$や$V$が過学習する(=訓練データに過剰に適合するため個々の要素の大きさが大きくなる)事を防ぐ働きがあります。  "
   ]
  },
  {
   "cell_type": "markdown",
   "metadata": {},
   "source": [
    "## 最適化手法\n",
    "次に、最適化手法を決めます。Newton法を用います。  \n",
    "例えば、ある関数$g(\\mathbf{\\theta})$を最小化する値$\\theta^*$を求めたい場合、学習率を$\\eta$とおくと、\n",
    "$$\n",
    "\\theta^{new} =\\theta^{old} - \\eta \\left(\\nabla \\nabla^T g(\\theta^{old})\\right)^{-1} \\nabla g(\\theta^{old})\n",
    "$$\n",
    "を反復し、$\\|\\theta^{new} - \\theta^{old}\\|_{Fro}$が一定値より小さくなったときの値$\\theta^{new}$を返すアルゴリズムです。\n",
    "\n",
    "上の式は、テイラー展開から導出されます。パラメータが1つの場合を考えます。    \n",
    "$g(\\theta)$をある値$\\bar{\\theta}$の周りで2次のテイラー展開をして、3次以上を無視すると以下のようになります。\n",
    "$$\n",
    "g(\\overline{\\theta}+\\Delta\\theta) = g(\\overline{\\theta}) + g'(\\overline{\\theta})\\Delta\\theta + \\frac{1}{2} g''(\\overline{\\theta}) \\Delta\\theta^2\n",
    "$$\n",
    "$g(\\theta)$の形は複雑なので、直接極小点$\\theta^*$を計算する事は難しいです。しかし、$\\theta^*$の近くの適当な値$\\overline{\\theta}$における$g(\\overline{\\theta})$を2次式で近似し、$\\theta$で微分する事で近似式の極小点$\\theta^{new}$を求めると、元の点$\\overline{\\theta}$よりかは真の極小点$\\theta^*$に近づいているはずです。この作業を繰り返せば、いつか元の$g(x)$の極小点に辿り着くだろうというのがニュートン法の基本的な発想です。  \n",
    "$\\theta$で微分する事と$\\Delta \\theta=\\theta - \\overline{\\theta}$で微分する事は等価(連鎖率で検索)なので、$g(\\overline{\\theta}+\\Delta\\theta)$を$\\Delta\\theta$についての式とみて、この2次近似式が極値、つまり勾配が0になるような$\\Delta\\theta$を求めます。上式の右辺を微分し0を代入すると、\n",
    "$$\n",
    "g'(\\overline{\\theta}) + g''(\\overline{\\theta})\\Delta \\theta = 0 \\\\\n",
    "\\Delta \\theta = - \\frac{g'(\\overline{\\theta})}{g''(\\overline{\\theta})}\n",
    "$$\n",
    "となります。$\\Delta \\theta=\\theta - \\overline{\\theta}$なので、更新された$\\theta$の値は\n",
    "$$\n",
    "\\theta^{new} = \\overline{\\theta} - \\frac{g'(\\overline{\\theta})}{g''(\\overline{\\theta})}\n",
    "$$\n",
    "となります。この式に学習率$\\eta$を掛けたものが1変数の場合のNewton法の更新式になります。\n",
    "$$\n",
    "\\theta^{new} = \\overline{\\theta} - \\eta \\frac{g'(\\overline{\\theta})}{g''(\\overline{\\theta})}\n",
    "$$\n",
    "これを多変量に拡張すると初めに書いた式になります。\n",
    "\n",
    "$\\theta^{new}$が$\\theta^*$に十分に近付いた場合、$\\theta$の更新量$\\Delta \\theta$は小さくなるはずです。$\\|\\Delta \\theta\\|_{Fro}$が一定の値を下回ればパラメータの更新を終了します。"
   ]
  },
  {
   "cell_type": "markdown",
   "metadata": {},
   "source": [
    "Newton法をベクトルや行列に拡張する場合、$\\Delta\\theta$の分母を計算するためにはヘッセ行列の逆行列を計算する必要があります。今回の損失関数$f_{l}$のパラメータは2つの行列$U, V$で、Uの2階微分,UとVの微分, Vの2階微分を計算するので、ヘッセ行列全体の大きさは$(I+J)R×(I+J)R$となります。逆行列を計算するためには大体辺の長さの3乗の計算コストがかかるため、計算コストが膨大になってしまいます。そこで、ヘッセ行列の$\\nabla_{U}\\nabla_{U}, \\nabla_{V}\\nabla_{V}$成分以外を0とすると、ヘッセ行列はブロック対角行列になるので、ブロック毎に逆行列を計算すればよくなり、計算量が大幅に減ります。  \n",
    "多分この近似が\"擬似\"の由来になってます。  "
   ]
  },
  {
   "cell_type": "markdown",
   "metadata": {},
   "source": [
    "最終的なパラメータの更新式は以下のようになります。UとVを交互に更新します。\n",
    "\n",
    "$$\n",
    "U^{new} = (1-\\eta)U + \\eta XV(V^TV+\\lambda I)^{-1} \\\\\n",
    "V^{new} = (1-\\eta)V + \\eta X^{T}U(U^TU+\\lambda I)^{-1} \n",
    "$$"
   ]
  },
  {
   "cell_type": "markdown",
   "metadata": {},
   "source": [
    "U, Vは非負の行列なので、更新時に負の値を取った要素は0に置換します。"
   ]
  },
  {
   "cell_type": "markdown",
   "metadata": {},
   "source": [
    "# 実装"
   ]
  },
  {
   "cell_type": "markdown",
   "metadata": {},
   "source": [
    "livedoor ニュースコーパスを用います。9種類のニュースを元に文章集合を作って、トピック数9とした時に元のトピックをどこまで復元出来るか試してみます。  \n",
    "https://www.rondhuit.com/download.html#ldcc"
   ]
  },
  {
   "cell_type": "code",
   "execution_count": 2,
   "metadata": {},
   "outputs": [],
   "source": [
    "import numpy as np\n",
    "import pandas as pd\n",
    "import matplotlib.pyplot as plt\n",
    "import seaborn as sns\n",
    "from tqdm import tqdm_notebook as tqdm\n",
    "\n",
    "import MeCab\n",
    "from pathlib import Path\n",
    "import re"
   ]
  },
  {
   "cell_type": "code",
   "execution_count": 3,
   "metadata": {},
   "outputs": [],
   "source": [
    "sns.set_style('darkgrid')\n",
    "plt.rcParams['font.family'] = 'IPAPGothic'\n",
    "%matplotlib inline"
   ]
  },
  {
   "cell_type": "code",
   "execution_count": 4,
   "metadata": {},
   "outputs": [],
   "source": [
    "cat_path = Path('../input/text/')\n",
    "cat_dir = [p for p in cat_path.iterdir() if p.is_dir()]"
   ]
  },
  {
   "cell_type": "code",
   "execution_count": 6,
   "metadata": {},
   "outputs": [],
   "source": [
    "news_path = [[p for p in cat.iterdir()] for cat in cat_dir]"
   ]
  },
  {
   "cell_type": "code",
   "execution_count": 8,
   "metadata": {},
   "outputs": [
    {
     "name": "stdout",
     "output_type": "stream",
     "text": [
      "871 ../input/text/movie-enter\n",
      "871 ../input/text/it-life-hack\n",
      "865 ../input/text/kaden-channel\n",
      "771 ../input/text/topic-news\n",
      "512 ../input/text/livedoor-homme\n",
      "843 ../input/text/peachy\n",
      "901 ../input/text/sports-watch\n",
      "871 ../input/text/dokujo-tsushin\n",
      "871 ../input/text/smax\n"
     ]
    }
   ],
   "source": [
    "for dir_, cat in zip(cat_dir, news_path):\n",
    "    print(len(cat), dir_)"
   ]
  },
  {
   "cell_type": "markdown",
   "metadata": {},
   "source": [
    "ニュースのカテゴリと記事数は上のようになっています。  "
   ]
  },
  {
   "cell_type": "markdown",
   "metadata": {},
   "source": [
    "livedoor ニュースコーパスはだいたい500~900記事/カテゴリのデータセットです。  \n",
    "100記事/カテゴリを選択します。"
   ]
  },
  {
   "cell_type": "code",
   "execution_count": 9,
   "metadata": {},
   "outputs": [],
   "source": [
    "path_select = []\n",
    "for cat in news_path:\n",
    "    path_select.extend(cat[:100])"
   ]
  },
  {
   "cell_type": "code",
   "execution_count": 10,
   "metadata": {},
   "outputs": [],
   "source": [
    "text_select = []\n",
    "for p in path_select:\n",
    "    with open(p, mode='r') as f:\n",
    "        text = f.read()\n",
    "        text_select.append(text)"
   ]
  },
  {
   "cell_type": "markdown",
   "metadata": {},
   "source": [
    "# 前処理"
   ]
  },
  {
   "cell_type": "markdown",
   "metadata": {},
   "source": [
    "https://qiita.com/Hironsan/items/2466fe0f344115aff177  \n",
    "https://github.com/Hironsan/natural-language-preprocessings/blob/master/preprocessings/ja/cleaning.py  \n",
    "を参考にしました。  \n",
    "\n",
    "クリーニング→正規化(半角→全角、数字、表記揺れ)→ストップワードの除去  \n",
    "\n",
    "ストップワードは、出現数上位1%もしくは文章全体で出現頻度が10未満の単語とします。"
   ]
  },
  {
   "cell_type": "code",
   "execution_count": 11,
   "metadata": {},
   "outputs": [],
   "source": [
    "from joblib import Parallel, delayed\n",
    "from cleaning import clean_text\n",
    "from normalization import normalize\n",
    "from tokenizer import MeCabTokenizer\n",
    "from collections import defaultdict, Counter"
   ]
  },
  {
   "cell_type": "code",
   "execution_count": 12,
   "metadata": {},
   "outputs": [],
   "source": [
    "tokenizer_neologd = MeCabTokenizer('/usr/local/lib/mecab/dic/mecab-ipadic-neologd/')"
   ]
  },
  {
   "cell_type": "code",
   "execution_count": 13,
   "metadata": {},
   "outputs": [],
   "source": [
    "def with_preprocess(text):\n",
    "    text = clean_text(text)\n",
    "    words = tokenizer_neologd.wakati_baseform(text)\n",
    "    words = [normalize(word)  for word in words]\n",
    "    return words"
   ]
  },
  {
   "cell_type": "code",
   "execution_count": 14,
   "metadata": {
    "scrolled": true
   },
   "outputs": [
    {
     "name": "stdout",
     "output_type": "stream",
     "text": [
      "CPU times: user 200 ms, sys: 54.8 ms, total: 254 ms\n",
      "Wall time: 3.83 s\n"
     ]
    }
   ],
   "source": [
    "%%time\n",
    "news_words = Parallel(n_jobs=-1)([delayed(with_preprocess)(text) for text in text_select])"
   ]
  },
  {
   "cell_type": "code",
   "execution_count": 15,
   "metadata": {},
   "outputs": [],
   "source": [
    "def get_stop_words(news_words, n=100, min_freq=1):\n",
    "    c = Counter()\n",
    "    for words in news_words:\n",
    "        for word in words:\n",
    "            c[word] += 1\n",
    "    top_words = {word for word, _ in c.most_common(n)}\n",
    "    rare_words = {word for word, freq in c.items() if freq < min_freq}\n",
    "    stopwords = top_words | rare_words\n",
    "    print('{}/{}'.format(len(stopwords), len(c)))\n",
    "    return stopwords"
   ]
  },
  {
   "cell_type": "code",
   "execution_count": 16,
   "metadata": {},
   "outputs": [
    {
     "name": "stdout",
     "output_type": "stream",
     "text": [
      "25444/29837\n"
     ]
    }
   ],
   "source": [
    "stopwords = get_stop_words(news_words, n=100, min_freq=10)"
   ]
  },
  {
   "cell_type": "code",
   "execution_count": 39,
   "metadata": {},
   "outputs": [],
   "source": [
    "# stopwordsの削除\n",
    "for i in range(len(news_words)):\n",
    "    news_words[i] = [w for w in news_words[i] if w not in stopwords]"
   ]
  },
  {
   "cell_type": "markdown",
   "metadata": {},
   "source": [
    "大体4000単語が残りました。"
   ]
  },
  {
   "cell_type": "markdown",
   "metadata": {},
   "source": [
    "# 文章と単語のクラス作成"
   ]
  },
  {
   "cell_type": "code",
   "execution_count": 40,
   "metadata": {},
   "outputs": [],
   "source": [
    "class Vocab:\n",
    "    def __init__(self):\n",
    "        self.word2index = defaultdict(int)\n",
    "        self.word2count = defaultdict(int)\n",
    "        self.index2word = defaultdict(str)\n",
    "        self.n_words = 0\n",
    "    def add_text(self, text):\n",
    "        for word in text.split(\" \"):\n",
    "            self.add_word(word)\n",
    "    \n",
    "    def add_word(self, word):\n",
    "        if word not in self.word2index:\n",
    "            self.word2index[word] = self.n_words\n",
    "            self.word2count[word] = 1\n",
    "            self.index2word[self.n_words] = word\n",
    "            self.n_words += 1\n",
    "        else:\n",
    "            self.word2count[word] += 1"
   ]
  },
  {
   "cell_type": "code",
   "execution_count": 41,
   "metadata": {},
   "outputs": [],
   "source": [
    "vocab = Vocab()"
   ]
  },
  {
   "cell_type": "code",
   "execution_count": 42,
   "metadata": {},
   "outputs": [
    {
     "name": "stdout",
     "output_type": "stream",
     "text": [
      "CPU times: user 102 ms, sys: 3.43 ms, total: 105 ms\n",
      "Wall time: 103 ms\n"
     ]
    }
   ],
   "source": [
    "%%time\n",
    "for words in news_words:\n",
    "    for word in words:\n",
    "        if word not in stopwords:\n",
    "            vocab.add_word(word)"
   ]
  },
  {
   "cell_type": "code",
   "execution_count": 43,
   "metadata": {},
   "outputs": [
    {
     "data": {
      "text/plain": [
       "4393"
      ]
     },
     "execution_count": 43,
     "metadata": {},
     "output_type": "execute_result"
    }
   ],
   "source": [
    "vocab.n_words"
   ]
  },
  {
   "cell_type": "code",
   "execution_count": 44,
   "metadata": {},
   "outputs": [],
   "source": [
    "class News:\n",
    "    def __init__(self):\n",
    "        self.index2title = defaultdict(str)\n",
    "        self.index2words = defaultdict(list)\n",
    "        self.index2text = defaultdict(str)\n",
    "        self.n_news = 0\n",
    "    \n",
    "    def add_news(self, news_titles, news_words):\n",
    "        for title, words in zip(news_titles, news_words):\n",
    "            self.index2title[self.n_news] = title\n",
    "            self.index2words[self.n_news] = words\n",
    "            self.index2text[self.n_news] = \"\".join(words)\n",
    "            self.n_news += 1"
   ]
  },
  {
   "cell_type": "code",
   "execution_count": 45,
   "metadata": {},
   "outputs": [],
   "source": [
    "news = News()"
   ]
  },
  {
   "cell_type": "code",
   "execution_count": 46,
   "metadata": {},
   "outputs": [],
   "source": [
    "news_titles = [text.split(\"\\n\")[2] for text in text_select]"
   ]
  },
  {
   "cell_type": "code",
   "execution_count": 47,
   "metadata": {},
   "outputs": [],
   "source": [
    "news.add_news(news_titles, news_words)"
   ]
  },
  {
   "cell_type": "code",
   "execution_count": 48,
   "metadata": {},
   "outputs": [
    {
     "data": {
      "text/plain": [
       "900"
      ]
     },
     "execution_count": 48,
     "metadata": {},
     "output_type": "execute_result"
    }
   ],
   "source": [
    "news.n_news"
   ]
  },
  {
   "cell_type": "markdown",
   "metadata": {},
   "source": [
    "# 記事×単語の行列作成"
   ]
  },
  {
   "cell_type": "markdown",
   "metadata": {},
   "source": [
    "単純に文章毎に単語の出現頻度をカウントするより、予め文章内総単語に占める個々の単語の割合を計算して、文章内にその単語が現れたら割合値を代入するやり方にした方が、行列分解がいい感じに出来ました。"
   ]
  },
  {
   "cell_type": "code",
   "execution_count": 49,
   "metadata": {},
   "outputs": [],
   "source": [
    "all_words_count = sum([i for i in vocab.word2count.values()])"
   ]
  },
  {
   "cell_type": "code",
   "execution_count": 50,
   "metadata": {},
   "outputs": [],
   "source": [
    "## 参考書通りの実装\n",
    "## 一部のクラスターに集中する\n",
    "X = np.zeros((news.n_news, vocab.n_words))\n",
    "for i in range(news.n_news):\n",
    "    for word in news.index2words[i]:\n",
    "            word_idx = vocab.word2index[word]\n",
    "            X[i, word_idx] += 1\n",
    "X = X / all_words_count"
   ]
  },
  {
   "cell_type": "code",
   "execution_count": 51,
   "metadata": {},
   "outputs": [
    {
     "data": {
      "text/plain": [
       "1.0"
      ]
     },
     "execution_count": 51,
     "metadata": {},
     "output_type": "execute_result"
    }
   ],
   "source": [
    "# 単語の出現頻度を計算して総出現単語数で割っているので、Xの合計値は1になる\n",
    "# よって、Xは文章と単語の同時出現確率と解釈できる\n",
    "X.sum()"
   ]
  },
  {
   "cell_type": "code",
   "execution_count": 52,
   "metadata": {},
   "outputs": [],
   "source": [
    "X = np.zeros((news.n_news, vocab.n_words))\n",
    "for i in range(news.n_news):\n",
    "    for word in news.index2words[i]:\n",
    "            p_word = vocab.word2count[word] / all_words_count\n",
    "            idx_word = vocab.word2index[word]\n",
    "            X[i, idx_word] = p_word"
   ]
  },
  {
   "cell_type": "code",
   "execution_count": 53,
   "metadata": {},
   "outputs": [
    {
     "data": {
      "text/plain": [
       "62.213990106839226"
      ]
     },
     "execution_count": 53,
     "metadata": {},
     "output_type": "execute_result"
    }
   ],
   "source": [
    "# 単純に同時確率を代入している訳ではないので、合計値は1ではなくなる\n",
    "# 確率ではない\n",
    "X.sum()"
   ]
  },
  {
   "cell_type": "code",
   "execution_count": 54,
   "metadata": {},
   "outputs": [
    {
     "data": {
      "text/plain": [
       "0.027761590408983988"
      ]
     },
     "execution_count": 54,
     "metadata": {},
     "output_type": "execute_result"
    }
   ],
   "source": [
    "np.where(X != 0)[0].shape[0] / (900 * 4393)"
   ]
  },
  {
   "cell_type": "markdown",
   "metadata": {},
   "source": [
    "Xは非0の割合が3%弱の非常に疎な行列です"
   ]
  },
  {
   "cell_type": "markdown",
   "metadata": {},
   "source": [
    "# scikit-learnで動作確認"
   ]
  },
  {
   "cell_type": "markdown",
   "metadata": {},
   "source": [
    "準備したデータセットで本質的に行列分解が上手くいくのかを確かめるために、予めscikit-learnで挙動を確かめておきます。"
   ]
  },
  {
   "cell_type": "code",
   "execution_count": 55,
   "metadata": {},
   "outputs": [],
   "source": [
    "from sklearn.decomposition import NMF"
   ]
  },
  {
   "cell_type": "code",
   "execution_count": 56,
   "metadata": {},
   "outputs": [],
   "source": [
    "model = NMF(9, alpha=0.01, random_state=1234) # alpha: l2正則化の割合"
   ]
  },
  {
   "cell_type": "code",
   "execution_count": 57,
   "metadata": {},
   "outputs": [],
   "source": [
    "U = model.fit_transform(X)"
   ]
  },
  {
   "cell_type": "code",
   "execution_count": 58,
   "metadata": {},
   "outputs": [],
   "source": [
    "V = model.components_.T"
   ]
  },
  {
   "cell_type": "markdown",
   "metadata": {},
   "source": [
    "学習が上手くいっているか確認します。  \n",
    "Xは各トピックから100記事を選んで結合した行列なので、100行毎に関連度の最も高いトピックを見てみます。"
   ]
  },
  {
   "cell_type": "code",
   "execution_count": 60,
   "metadata": {},
   "outputs": [],
   "source": [
    "news_cluster = np.empty((9, 9))\n",
    "for i in range(9):\n",
    "    uc = U[i*100:(i+1)*100, :]\n",
    "    cl = uc.argmax(axis=1)\n",
    "    for c in range(9):\n",
    "        news_cluster[i, c] = Counter(cl)[c]"
   ]
  },
  {
   "cell_type": "code",
   "execution_count": 63,
   "metadata": {
    "scrolled": true
   },
   "outputs": [
    {
     "name": "stdout",
     "output_type": "stream",
     "text": [
      "行0: カテゴリ../input/text/movie-enter\n",
      "行1: カテゴリ../input/text/it-life-hack\n",
      "行2: カテゴリ../input/text/kaden-channel\n",
      "行3: カテゴリ../input/text/topic-news\n",
      "行4: カテゴリ../input/text/livedoor-homme\n",
      "行5: カテゴリ../input/text/peachy\n",
      "行6: カテゴリ../input/text/sports-watch\n",
      "行7: カテゴリ../input/text/dokujo-tsushin\n",
      "行8: カテゴリ../input/text/smax\n"
     ]
    }
   ],
   "source": [
    "# 100行毎のニュースカテゴリ\n",
    "for i in range(9):\n",
    "    print('行{}: カテゴリ{}'.format(i, cat_dir[i]))"
   ]
  },
  {
   "cell_type": "code",
   "execution_count": 62,
   "metadata": {},
   "outputs": [
    {
     "data": {
      "image/png": "[encoded data removed]",
      "text/plain": [
       "<matplotlib.figure.Figure at 0x1a52c1ec88>"
      ]
     },
     "metadata": {},
     "output_type": "display_data"
    }
   ],
   "source": [
    "fig, ax = plt.subplots()\n",
    "sns.heatmap(news_cluster)\n",
    "plt.show()"
   ]
  },
  {
   "cell_type": "markdown",
   "metadata": {},
   "source": [
    "行(ニュースのカテゴリ)毎に、異なるトピックに分類されている事がわかります。  \n",
    "特に、カテゴリ7(dokujo-tsushin)とカテゴリ8(smax, iPhone関連の記事?)が鮮明に分かれています。"
   ]
  },
  {
   "cell_type": "markdown",
   "metadata": {},
   "source": [
    "最後に、トピック毎にそのトピックに所属する割合が最も高い単語を確認します。"
   ]
  },
  {
   "cell_type": "code",
   "execution_count": 66,
   "metadata": {},
   "outputs": [
    {
     "name": "stdout",
     "output_type": "stream",
     "text": [
      "topic 0\n",
      "0歳 いい くれる 今 私 方 そんな 仕事 けど し かも 何 気 聞く 男性 どう さ とき 持つ 考える\n",
      "topic 1\n",
      "対応 twitter smartphone max 利用 搭載 エスマックス 画面 場合 可能 サービス 発売 関連リンク 発表 約 情報 表示 アプリ on 執筆\n",
      "topic 2\n",
      "関連 情報 声 日本 おる 発表 twitter ユーザー ネット掲示板 な チェック 氏 いい 今 0月 てる どう 対応 発売 問題\n",
      "topic 3\n",
      "てる な けど について いい し やる 氏 じゃ 日本 何 とか 持つ 語る 声 どう 紹介 上 ところ コメント\n",
      "topic 4\n",
      "場合 について 方 くださる 必要 ※ 名 上 おる 利用 発表 情報 プレゼント いただく 数 様 本 応募 時間 キャンペーン\n",
      "topic 5\n",
      "行う について 公開 くれる 0月 行く 日本 による 利用 前 以上 てる サービス おる 今 者 必要 可能 語る 現在\n",
      "topic 6\n",
      "ぬ 何 紹介 さ 持つ 知る そして 前 今 おる ほど 必要 ところ そんな 仕事 ながら 感じる 考える しかし かも\n",
      "topic 7\n",
      "紹介 アプリ 以上 名 利用 方 android チェック 画面 iphone くださる 登場 とき そんな 人気 twitter かも 知る 表示 気\n",
      "topic 8\n",
      "さ 日本 そんな 登場 公開 発売 持つ 名 大 世界 発表 0月 くれる & 人気 たち さらに 約 今 0人\n"
     ]
    }
   ],
   "source": [
    "for i in range(9):\n",
    "    top_word_idx = V[:,i].argsort()[::-1][:20]\n",
    "    print(\"topic {}\".format(i))\n",
    "    print(\" \".join([vocab.index2word[w] for w in top_word_idx]))"
   ]
  },
  {
   "cell_type": "markdown",
   "metadata": {},
   "source": [
    "トピック0=カテゴリ7=dokujo-tsushin  \n",
    "トピック1=カテゴリ8=smax  \n",
    "なので、主要なカテゴリが上手くトピックとして復元出来ています。  \n",
    "ただ、全てのカテゴリがトピックとして復元出来る訳ではありません。"
   ]
  },
  {
   "cell_type": "markdown",
   "metadata": {},
   "source": [
    "# 行列を分解する"
   ]
  },
  {
   "cell_type": "markdown",
   "metadata": {},
   "source": [
    "本題に入ります。  \n",
    "擬似2次交互射影勾配降下法を書いてみます。"
   ]
  },
  {
   "cell_type": "code",
   "execution_count": 67,
   "metadata": {},
   "outputs": [],
   "source": [
    "class MD:\n",
    "    def __init__(self, r, alpha=0, lr=0.1, eps=0.0001, max_iter=200):\n",
    "        self.r = r\n",
    "        self.alpha = alpha\n",
    "        self.lr = lr\n",
    "        self.eps = eps\n",
    "        self.max_iter = max_iter\n",
    "    \n",
    "    def l2_loss(self, X, U, V):\n",
    "        return ((X - np.dot(U, V.T))**2).sum() / 2 + ((U**2).sum() + (V**2).sum()) * self.alpha / 2\n",
    "    \n",
    "    \n",
    "    def decompose(self, X):\n",
    "        xi, xj = X.shape\n",
    "        U = abs(np.random.rand(xi, self.r))\n",
    "        V = abs(np.random.rand(xj, self.r))\n",
    "        \n",
    "        cnt = 0\n",
    "        while True:\n",
    "            cnt += 1\n",
    "            g = self.l2_loss(X, U, V)\n",
    "            U = (1 - self.lr) * U + self.lr * np.dot(np.dot(X, V), np.linalg.inv(np.dot(V.T, V) + self.alpha * np.eye(self.r)))\n",
    "            U[U<0] = 0\n",
    "            V = (1 - self.lr) * V + self.lr * np.dot(np.dot(X.T, U), np.linalg.inv(np.dot(U.T, U) + self.alpha * np.eye(self.r)))\n",
    "            V[V<0] = 0\n",
    "            if abs((g - self.l2_loss(X, U, V)) / self.l2_loss(X, U, V)) < self.eps:\n",
    "                break\n",
    "            if cnt >= self.max_iter:\n",
    "                print(\"Maximum number of iteration {} reached.\".format(self.max_iter))\n",
    "                break\n",
    "        return U, V"
   ]
  },
  {
   "cell_type": "code",
   "execution_count": 68,
   "metadata": {},
   "outputs": [],
   "source": [
    "md = MD(r=9, lr=0.5, alpha=0.01)"
   ]
  },
  {
   "cell_type": "code",
   "execution_count": 69,
   "metadata": {},
   "outputs": [],
   "source": [
    "U1, V1 = md.decompose(X)"
   ]
  },
  {
   "cell_type": "markdown",
   "metadata": {},
   "source": [
    "scikit-learnとnumpyの実装で、最適化後の損失の値$f_l$を比較してみます。"
   ]
  },
  {
   "cell_type": "code",
   "execution_count": 71,
   "metadata": {},
   "outputs": [
    {
     "name": "stdout",
     "output_type": "stream",
     "text": [
      "scikit-learn 0.02565332427327942\n",
      "original 0.02581086578691147\n"
     ]
    }
   ],
   "source": [
    "# scikit-learn\n",
    "print(\"scikit-learn\", md.l2_loss(X, U, V))\n",
    "# original\n",
    "print(\"original\", md.l2_loss(X, U1, V1))"
   ]
  },
  {
   "cell_type": "markdown",
   "metadata": {},
   "source": [
    "scikit-learnの方が若干損失が低くなっています。  \n",
    "多分scikit-learnはNewton法ではない最適化アルゴリズムを採用している可能性があります。  \n",
    "とはいえ、概ね同じ値に収まりました。"
   ]
  },
  {
   "cell_type": "code",
   "execution_count": 80,
   "metadata": {},
   "outputs": [],
   "source": [
    "news_cluster1 = np.empty((9, 9))\n",
    "for i in range(9):\n",
    "    uc = U1[i*100:(i+1)*100, :]\n",
    "    cl = uc.argmax(axis=1)\n",
    "    for c in range(9):\n",
    "        news_cluster1[i, c] = Counter(cl)[c]"
   ]
  },
  {
   "cell_type": "code",
   "execution_count": 81,
   "metadata": {
    "scrolled": true
   },
   "outputs": [
    {
     "name": "stdout",
     "output_type": "stream",
     "text": [
      "行0: カテゴリ../input/text/movie-enter\n",
      "行1: カテゴリ../input/text/it-life-hack\n",
      "行2: カテゴリ../input/text/kaden-channel\n",
      "行3: カテゴリ../input/text/topic-news\n",
      "行4: カテゴリ../input/text/livedoor-homme\n",
      "行5: カテゴリ../input/text/peachy\n",
      "行6: カテゴリ../input/text/sports-watch\n",
      "行7: カテゴリ../input/text/dokujo-tsushin\n",
      "行8: カテゴリ../input/text/smax\n"
     ]
    }
   ],
   "source": [
    "# 100行毎のニュースカテゴリ\n",
    "for i in range(9):\n",
    "    print('行{}: カテゴリ{}'.format(i, cat_dir[i]))"
   ]
  },
  {
   "cell_type": "code",
   "execution_count": 86,
   "metadata": {},
   "outputs": [
    {
     "data": {
      "image/png": "[encoded data removed]",
      "text/plain": [
       "<matplotlib.figure.Figure at 0x1a5068c198>"
      ]
     },
     "metadata": {},
     "output_type": "display_data"
    }
   ],
   "source": [
    "fig, axes = plt.subplots(nrows=1, ncols=2, figsize=(15,6))\n",
    "sns.heatmap(news_cluster1, ax=axes[0])\n",
    "sns.heatmap(news_cluster, ax=axes[1])\n",
    "axes[0].set_title('original')\n",
    "axes[1].set_title('scikit-learn')\n",
    "plt.show()"
   ]
  },
  {
   "cell_type": "markdown",
   "metadata": {},
   "source": [
    "列の順序が異なるものの、概ね同じ結果になりました。  "
   ]
  },
  {
   "cell_type": "markdown",
   "metadata": {},
   "source": [
    "最後に、originalで最適化した場合でのトピックの所属確率が高い単語をいくつか見てみましょう"
   ]
  },
  {
   "cell_type": "code",
   "execution_count": 88,
   "metadata": {},
   "outputs": [
    {
     "name": "stdout",
     "output_type": "stream",
     "text": [
      "topic 0\n",
      "0歳 ぬ 今 くれる 仕事 私 いい 方 何 かも そんな さ 気 聞く 男性 し どう 持つ 考える 感じる\n",
      "topic 1\n",
      "日本 公開 ぬ 登場 紹介 知る 世界 について 何 0位 そして 大 人気 以上 特集 & おる 第 持つ 今\n",
      "topic 2\n",
      "関連 情報 声 twitter な てる 日本 ネット掲示板 おる ユーザー 氏 いい 発表 チェック どう 今 意見 問題 コメント 対応\n",
      "topic 3\n",
      "場合 について 方 くださる 必要 ※ 利用 名 上 おる 情報 ぬ 数 いただく プレゼント 方法 とき 発表 様 本\n",
      "topic 4\n",
      "行う について てる ぬ 利用 くれる 情報 前 による おる 行く 0月 可能 サービス 公開 対応 必要 発表 日本 語る\n",
      "topic 5\n",
      "さ 発表 発売 名 対応 約 0月 搭載 持つ 登場 関連 大 方 数 さらに プレゼント 予定 モデル smartphone ×\n",
      "topic 6\n",
      "てる けど な について いい し やる じゃ とか 何 日本 氏 方 どう 語る 持つ ところ 0歳 気 私\n",
      "topic 7\n",
      "そんな 紹介 名 アプリ いい 以上 てる 人気 持つ 0円 方 上 さ とき さらに ながら チェック ※ android 登場\n",
      "topic 8\n",
      "twitter smartphone 対応 max 利用 アプリ 画面 エスマックス 搭載 表示 サービス 関連リンク 場合 android 可能 紹介 on 設定 執筆 情報\n"
     ]
    }
   ],
   "source": [
    "for i in range(9):\n",
    "    top_word_idx = V1[:,i].argsort()[::-1][:20]\n",
    "    print(\"topic {}\".format(i))\n",
    "    print(\" \".join([vocab.index2word[w] for w in top_word_idx]))"
   ]
  },
  {
   "cell_type": "markdown",
   "metadata": {},
   "source": [
    "いい感じにトピック抽出が出来ています。"
   ]
  },
  {
   "cell_type": "markdown",
   "metadata": {},
   "source": [
    "# まとめ"
   ]
  },
  {
   "cell_type": "markdown",
   "metadata": {},
   "source": [
    "* 行列分解はトピック抽出に使用できる\n",
    "* newton法とは未知の関数を2次近似して逐次的に極小点を求めるアルゴリズム\n",
    "* 文章×単語で単純な出現回数を数え合わせるより、単語毎の出現割合を値として使用した方がいい感じに分類できる"
   ]
  },
  {
   "cell_type": "code",
   "execution_count": null,
   "metadata": {},
   "outputs": [],
   "source": []
  }
 ],
 "metadata": {
  "kernelspec": {
   "display_name": "Python 3",
   "language": "python",
   "name": "python3"
  },
  "language_info": {
   "codemirror_mode": {
    "name": "ipython",
    "version": 3
   },
   "file_extension": ".py",
   "mimetype": "text/x-python",
   "name": "python",
   "nbconvert_exporter": "python",
   "pygments_lexer": "ipython3",
   "version": "3.6.4"
  }
 },
 "nbformat": 4,
 "nbformat_minor": 2
}
