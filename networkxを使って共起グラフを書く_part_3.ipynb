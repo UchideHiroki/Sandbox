{
 "cells": [
  {
   "cell_type": "markdown",
   "metadata": {},
   "source": [
    "データを「走れメロス」に変える"
   ]
  },
  {
   "cell_type": "code",
   "execution_count": 229,
   "metadata": {},
   "outputs": [],
   "source": [
    "import numpy as np\n",
    "import pandas as pd\n",
    "import matplotlib.pyplot as plt\n",
    "import seaborn as sns\n",
    "from tqdm import tqdm_notebook as tqdm\n",
    "\n",
    "np.random.seed(1234)\n",
    "pd.set_option(\"display.max_columns\", None)\n",
    "pd.set_option(\"display.max_rows\", 500)\n",
    "plt.rcParams[\"font.family\"] = \"IPAPGothic\"\n",
    "sns.set_style(\"white\")\n",
    "\n",
    "%matplotlib inline"
   ]
  },
  {
   "cell_type": "code",
   "execution_count": 2,
   "metadata": {},
   "outputs": [],
   "source": [
    "import networkx as nx\n",
    "import MeCab\n",
    "from collections import defaultdict, Counter\n",
    "from copy import copy, deepcopy"
   ]
  },
  {
   "cell_type": "code",
   "execution_count": 3,
   "metadata": {},
   "outputs": [
    {
     "name": "stdout",
     "output_type": "stream",
     "text": [
      "2.3\n"
     ]
    }
   ],
   "source": [
    "print(nx.__version__)"
   ]
  },
  {
   "cell_type": "markdown",
   "metadata": {},
   "source": [
    "## MeCabの準備"
   ]
  },
  {
   "cell_type": "code",
   "execution_count": 4,
   "metadata": {},
   "outputs": [],
   "source": [
    "mecab = MeCab.Tagger('-d /usr/local/lib/mecab/dic/mecab-ipadic-neologd')"
   ]
  },
  {
   "cell_type": "code",
   "execution_count": 5,
   "metadata": {},
   "outputs": [
    {
     "data": {
      "text/plain": [
       "'EOS\\n'"
      ]
     },
     "execution_count": 5,
     "metadata": {},
     "output_type": "execute_result"
    }
   ],
   "source": [
    "mecab.parse('')"
   ]
  },
  {
   "cell_type": "code",
   "execution_count": 6,
   "metadata": {},
   "outputs": [],
   "source": [
    "node = mecab.parseToNode(\"東京都\")"
   ]
  },
  {
   "cell_type": "code",
   "execution_count": 7,
   "metadata": {},
   "outputs": [
    {
     "data": {
      "text/plain": [
       "'東京都'"
      ]
     },
     "execution_count": 7,
     "metadata": {},
     "output_type": "execute_result"
    }
   ],
   "source": [
    "node.next.surface"
   ]
  },
  {
   "cell_type": "markdown",
   "metadata": {},
   "source": [
    "# 文章の読み込みとNode, Edgeの切りだし"
   ]
  },
  {
   "cell_type": "code",
   "execution_count": 139,
   "metadata": {},
   "outputs": [],
   "source": [
    "node_name = defaultdict(str)\n",
    "node_idx = defaultdict(int)\n",
    "node_type = defaultdict(list)\n",
    "node_count = defaultdict(int)\n",
    "edge_list = []"
   ]
  },
  {
   "cell_type": "code",
   "execution_count": 140,
   "metadata": {},
   "outputs": [],
   "source": [
    "with open(\"../input/dash.txt\", mode=\"r\") as f:\n",
    "    lines = f.readlines()"
   ]
  },
  {
   "cell_type": "code",
   "execution_count": 141,
   "metadata": {},
   "outputs": [],
   "source": [
    "stopwords = [\"の\", \"し\", \"れ\", \"さ\"]"
   ]
  },
  {
   "cell_type": "code",
   "execution_count": 142,
   "metadata": {},
   "outputs": [],
   "source": [
    "cnt = 0\n",
    "for line in lines:\n",
    "    node = mecab.parseToNode(line)\n",
    "    node_prev = None\n",
    "    while node:\n",
    "        w = node.surface\n",
    "        w_type = node.feature.split(',')[0]\n",
    "        if (w_type in [\"名詞\", \"動詞\", \"形容詞\"]) & (w not in stopwords):\n",
    "            # Nodeの処理\n",
    "            if w not in node_name.values():\n",
    "                node_name[cnt] = w\n",
    "                node_idx[w] = cnt\n",
    "                node_count[cnt] = 0\n",
    "                node_type[w_type].append(node_idx[w])\n",
    "                cnt += 1\n",
    "            else:\n",
    "                node_count[node_idx[w]] += 1\n",
    "            # edgeの処理\n",
    "            if (node_prev is not None) & (node_prev != node_idx[w]): # 循環グラフを回避\n",
    "                # 有向グラフを回避\n",
    "                edge = (min(node_prev, node_idx[w]), max(node_prev, node_idx[w]))\n",
    "                edge_list.append(edge)\n",
    "            node_prev = node_idx[w]\n",
    "        node = node.next\n",
    "        if node is None:\n",
    "            break"
   ]
  },
  {
   "cell_type": "code",
   "execution_count": 143,
   "metadata": {},
   "outputs": [],
   "source": [
    "edge_count = Counter(edge_list)"
   ]
  },
  {
   "cell_type": "markdown",
   "metadata": {},
   "source": [
    "# Networkxに格納"
   ]
  },
  {
   "cell_type": "markdown",
   "metadata": {},
   "source": [
    "とりあえず、出現頻度をweightとしてNodeとEdgeを格納"
   ]
  },
  {
   "cell_type": "code",
   "execution_count": 144,
   "metadata": {},
   "outputs": [],
   "source": [
    "G= nx.Graph()"
   ]
  },
  {
   "cell_type": "code",
   "execution_count": 145,
   "metadata": {},
   "outputs": [],
   "source": [
    "G.add_nodes_from([(idx, {'cnt': node_count[idx]}) for idx in node_name])"
   ]
  },
  {
   "cell_type": "code",
   "execution_count": 146,
   "metadata": {},
   "outputs": [
    {
     "data": {
      "text/plain": [
       "(1174, 1174)"
      ]
     },
     "execution_count": 146,
     "metadata": {},
     "output_type": "execute_result"
    }
   ],
   "source": [
    "G.number_of_nodes(), len(node_name)"
   ]
  },
  {
   "cell_type": "code",
   "execution_count": 147,
   "metadata": {},
   "outputs": [],
   "source": [
    "G.add_edges_from([(a, b, {'cnt': edge_count[(a, b)]}) for a, b in edge_list])"
   ]
  },
  {
   "cell_type": "code",
   "execution_count": 148,
   "metadata": {},
   "outputs": [
    {
     "data": {
      "text/plain": [
       "(2162, 2162, 2355)"
      ]
     },
     "execution_count": 148,
     "metadata": {},
     "output_type": "execute_result"
    }
   ],
   "source": [
    "G.number_of_edges(), len(edge_count), len(edge_list)"
   ]
  },
  {
   "cell_type": "markdown",
   "metadata": {},
   "source": [
    "# Node, Edgeを剪定して描画"
   ]
  },
  {
   "cell_type": "code",
   "execution_count": 199,
   "metadata": {},
   "outputs": [],
   "source": [
    "G2 = deepcopy(G)"
   ]
  },
  {
   "cell_type": "code",
   "execution_count": 200,
   "metadata": {},
   "outputs": [],
   "source": [
    "# Node: cnt >= 3で剪定\n",
    "# 破壊的操作なので、予め破壊用のグラフ(G2)と検索用グラフ(G)を分けておく\n",
    "for n, attr in G.nodes().items():\n",
    "    if (attr['cnt'] < 10):\n",
    "        G2.remove_edges_from(list(G.edges(n)))\n",
    "        G2.remove_node(n)"
   ]
  },
  {
   "cell_type": "code",
   "execution_count": 201,
   "metadata": {},
   "outputs": [
    {
     "data": {
      "text/plain": [
       "(26, 1174)"
      ]
     },
     "execution_count": 201,
     "metadata": {},
     "output_type": "execute_result"
    }
   ],
   "source": [
    "len(G2), len(G)"
   ]
  },
  {
   "cell_type": "code",
   "execution_count": 202,
   "metadata": {},
   "outputs": [],
   "source": [
    "G3 = deepcopy(G2)"
   ]
  },
  {
   "cell_type": "code",
   "execution_count": 203,
   "metadata": {},
   "outputs": [],
   "source": [
    "# Edge: cnt >= 2で剪定\n",
    "# Edgeが無くなったNodeは、一旦そのまま\n",
    "for e, attr in G2.edges().items():\n",
    "    if attr['cnt'] < 2:\n",
    "        G3.remove_edge(*e)"
   ]
  },
  {
   "cell_type": "code",
   "execution_count": 204,
   "metadata": {},
   "outputs": [
    {
     "data": {
      "text/plain": [
       "(2162, 80, 26)"
      ]
     },
     "execution_count": 204,
     "metadata": {},
     "output_type": "execute_result"
    }
   ],
   "source": [
    "G.number_of_edges(), G2.number_of_edges(), G3.number_of_edges()"
   ]
  },
  {
   "cell_type": "code",
   "execution_count": 205,
   "metadata": {},
   "outputs": [],
   "source": [
    "G4 = deepcopy(G3)"
   ]
  },
  {
   "cell_type": "code",
   "execution_count": 206,
   "metadata": {},
   "outputs": [],
   "source": [
    "# Edgeが無くなったNodeを削除\n",
    "for n in list(G3.nodes()):\n",
    "    if len(G3[n]) == 0:\n",
    "        G4.remove_node(n)"
   ]
  },
  {
   "cell_type": "code",
   "execution_count": 207,
   "metadata": {},
   "outputs": [
    {
     "data": {
      "text/plain": [
       "(1174, 26, 26, 24)"
      ]
     },
     "execution_count": 207,
     "metadata": {},
     "output_type": "execute_result"
    }
   ],
   "source": [
    "len(G), len(G2), len(G3), len(G4)"
   ]
  },
  {
   "cell_type": "code",
   "execution_count": 179,
   "metadata": {},
   "outputs": [],
   "source": [
    "G5 = deepcopy(G4)"
   ]
  },
  {
   "cell_type": "code",
   "execution_count": 180,
   "metadata": {},
   "outputs": [],
   "source": [
    "# もうちょっと減らしてみる\n",
    "# 情報量落ちるけど、輪郭が発揮する\n",
    "# Node: cnt >= 6で剪定\n",
    "# 破壊的操作なので、予め破壊用のグラフ(G2)と検索用グラフ(G)を分けておく\n",
    "# ほぼ全ての単語が「台風」と繋がっているので、台風もどける\n",
    "for n, attr in G4.nodes().items():\n",
    "    if attr['cnt'] < 10:\n",
    "        G5.remove_edges_from(list(G4.edges(n)))\n",
    "        G5.remove_node(n)"
   ]
  },
  {
   "cell_type": "code",
   "execution_count": 181,
   "metadata": {},
   "outputs": [],
   "source": [
    "G6 = deepcopy(G5)"
   ]
  },
  {
   "cell_type": "code",
   "execution_count": 182,
   "metadata": {},
   "outputs": [],
   "source": [
    "# Edgeが無くなったNodeを削除\n",
    "for n in list(G5.nodes()):\n",
    "    if len(G5[n]) == 0:\n",
    "        G6.remove_node(n)"
   ]
  },
  {
   "cell_type": "code",
   "execution_count": 208,
   "metadata": {},
   "outputs": [],
   "source": [
    "G_result = deepcopy(G4)"
   ]
  },
  {
   "cell_type": "code",
   "execution_count": 209,
   "metadata": {},
   "outputs": [],
   "source": [
    "pos = nx.layout.spring_layout(G_result, k=0.7, seed=10) # 2次元平面状の座標を計算"
   ]
  },
  {
   "cell_type": "code",
   "execution_count": 210,
   "metadata": {},
   "outputs": [],
   "source": [
    "labels = {n: node_name[n] for n in pos.keys()}"
   ]
  },
  {
   "cell_type": "code",
   "execution_count": 211,
   "metadata": {},
   "outputs": [],
   "source": [
    "node_size = [np.log(node_count[n])*400 for n in pos.keys()] # 対数スケール\n",
    "node_size = [node_count[n]*50 for n in pos.keys()]"
   ]
  },
  {
   "cell_type": "code",
   "execution_count": 212,
   "metadata": {},
   "outputs": [],
   "source": [
    " node_color = list(nx.clustering(G_result).values())"
   ]
  },
  {
   "cell_type": "code",
   "execution_count": 213,
   "metadata": {},
   "outputs": [],
   "source": [
    "edge_alpha = [edge_count[e] for e in G_result.edges()]\n",
    "edge_colors = [edge_count[e] for e in G_result.edges()]\n",
    "edge_width = [edge_count[e] + 2 for e in G_result.edges()]"
   ]
  },
  {
   "cell_type": "code",
   "execution_count": 227,
   "metadata": {},
   "outputs": [],
   "source": [
    "import matplotlib"
   ]
  },
  {
   "cell_type": "code",
   "execution_count": 232,
   "metadata": {},
   "outputs": [],
   "source": [
    "matplotlib.rcParams['font.family'] = 'IPAPGothic'"
   ]
  },
  {
   "cell_type": "code",
   "execution_count": 233,
   "metadata": {},
   "outputs": [
    {
     "name": "stdout",
     "output_type": "stream",
     "text": [
      "['IPAPGothic']\n"
     ]
    }
   ],
   "source": [
    "print(matplotlib.rcParams['font.family'])"
   ]
  },
  {
   "cell_type": "code",
   "execution_count": 234,
   "metadata": {
    "code_folding": [],
    "scrolled": false
   },
   "outputs": [
    {
     "data": {
      "image/png": "[encoded data removed]",
      "text/plain": [
       "<matplotlib.figure.Figure at 0x1a5043d240>"
      ]
     },
     "metadata": {},
     "output_type": "display_data"
    }
   ],
   "source": [
    "fig, ax = plt.subplots(figsize=(12,12))\n",
    "nx.draw_networkx_nodes(G_result, pos, \n",
    "                       nodelist=[n for n in G_result.nodes() if n in node_type[\"名詞\"]],  \n",
    "                       node_size=node_size, node_color=\"orange\", alpha=0.6, ax=ax)\n",
    "nx.draw_networkx_nodes(G_result, pos, \n",
    "                       nodelist=[n for n in G_result.nodes() if n in node_type[\"動詞\"]], \n",
    "                       node_size=node_size, node_color=\"yellowgreen\", alpha=0.6, ax=ax)\n",
    "nx.draw_networkx_nodes(G_result, pos, \n",
    "                       nodelist=[n for n in G_result.nodes() if n in node_type[\"形容詞\"]], \n",
    "                       node_size=node_size, node_color=\"tomato\", alpha=0.6, ax=ax)\n",
    "nx.draw_networkx_edges(G_result, pos, alpha=0.6,\n",
    "                       width=edge_width, edge_color=edge_colors, \n",
    "                       edge_vmin=0, edge_vmax=10,\n",
    "                       edge_cmap=plt.cm.Blues,ax=ax)\n",
    "nx .draw_networkx_labels(G_result, pos, labels, font_size=10, font_family=\"IPAPGothic\", ax=ax)\n",
    "ax.set_title(\"走れメロスの共起ネットワーク\")\n",
    "\n",
    "plt.show()"
   ]
  },
  {
   "cell_type": "code",
   "execution_count": 197,
   "metadata": {},
   "outputs": [
    {
     "data": {
      "text/plain": [
       "10"
      ]
     },
     "execution_count": 197,
     "metadata": {},
     "output_type": "execute_result"
    }
   ],
   "source": [
    "node_count[node_idx[\"何\"]]"
   ]
  },
  {
   "cell_type": "markdown",
   "metadata": {},
   "source": [
    "妹-さま: 国王の妹  \n",
    "妹-羊: メロスの妹  \n",
    "私-君: メロス→セリヌンティウスの会話文、「君は私を信じた~」など  \n",
    "私-信じ: 「私を信じてくれ~」など"
   ]
  }
 ],
 "metadata": {
  "kernelspec": {
   "display_name": "Python 3",
   "language": "python",
   "name": "python3"
  },
  "language_info": {
   "codemirror_mode": {
    "name": "ipython",
    "version": 3
   },
   "file_extension": ".py",
   "mimetype": "text/x-python",
   "name": "python",
   "nbconvert_exporter": "python",
   "pygments_lexer": "ipython3",
   "version": "3.6.4"
  }
 },
 "nbformat": 4,
 "nbformat_minor": 2
}
